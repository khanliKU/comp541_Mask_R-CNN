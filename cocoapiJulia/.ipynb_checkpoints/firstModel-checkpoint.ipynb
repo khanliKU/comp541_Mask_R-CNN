{
 "cells": [
  {
   "cell_type": "code",
   "execution_count": 1,
   "metadata": {},
   "outputs": [],
   "source": [
    "#import Pkg; Pkg.add(\"PyCall\")\n",
    "#import Pkg; Pkg.add(\"PyPlot\")\n",
    "using PyCall\n",
    "using PyPlot\n",
    "np = pyimport(\"numpy\")\n",
    "io = pyimport(\"skimage.io\")\n",
    "pylab = pyimport(\"pylab\")\n",
    "pylab.rcParams[\"figure.figsize\"] = (8.0, 10.0)\n",
    "py\"\"\"\n",
    "import sys\n",
    "sys.path.insert(0, \"./\")\n",
    "\"\"\"\n",
    "pycocotools_coco = pyimport(\"pycocotools.coco\");"
   ]
  },
  {
   "cell_type": "code",
   "execution_count": null,
   "metadata": {},
   "outputs": [],
   "source": [
    "using Plots\n",
    "using Base.Iterators: flatten\n",
    "using IterTools: ncycle, takenth\n",
    "using Statistics: mean\n",
    "import CUDA # functional\n",
    "import Knet # load, save\n",
    "using Knet#: conv4, pool, mat, KnetArray, nll, zeroone, progress, sgd, param, param0, dropout, relu, minibatch, Data, sigm\n",
    "using BenchmarkTools\n",
    "using StatsBase\n"
   ]
  },
  {
   "cell_type": "markdown",
   "metadata": {},
   "source": [
    "# Load Images from dataset"
   ]
  },
  {
   "cell_type": "code",
   "execution_count": null,
   "metadata": {},
   "outputs": [],
   "source": [
    "dataDir=\"/datasets/COCO\"\n",
    "dataType=\"train2017\"\n",
    "annFile=\"$dataDir/annotations/instances_$dataType.json\"\n",
    "coco = pycocotools_coco.COCO(annFile);"
   ]
  },
  {
   "cell_type": "code",
   "execution_count": null,
   "metadata": {},
   "outputs": [],
   "source": [
    "catIds = coco.getCatIds(catNms=[\"person\",\"dog\",\"skateboard\"]);\n",
    "imgIds = coco.getImgIds(catIds=catIds);"
   ]
  },
  {
   "cell_type": "code",
   "execution_count": null,
   "metadata": {},
   "outputs": [],
   "source": [
    "id = imgIds[np.random.randint(1,length(imgIds))]\n",
    "#id = 306440\n",
    "print(id)\n",
    "# load and display image\n",
    "# I = io.imread('%s/images/%s/%s'%(dataDir,dataType,img['file_name']))\n",
    "# use url to load image\n",
    "img = coco.loadImgs(id)[1]\n",
    "annIds = coco.getAnnIds(imgIds=id, catIds=catIds, iscrowd=nothing)\n",
    "#print(annIds);print(\"\\n\");\n",
    "anns = coco.loadAnns(annIds)\n",
    "#print(anns);print(\"\\n\");\n",
    "I = io.imread(img[\"coco_url\"])\n",
    "plt.switch_backend(\"agg\")\n",
    "plt.axis(\"off\")\n",
    "plt.imshow(I)\n",
    "plt.show()\n",
    "r = coco.showAnns(anns);"
   ]
  },
  {
   "cell_type": "code",
   "execution_count": null,
   "metadata": {},
   "outputs": [],
   "source": [
    "img"
   ]
  },
  {
   "cell_type": "code",
   "execution_count": null,
   "metadata": {},
   "outputs": [],
   "source": [
    "I = permutedims(I,(2,1,3));"
   ]
  },
  {
   "cell_type": "code",
   "execution_count": null,
   "metadata": {},
   "outputs": [],
   "source": [
    "imgData = reshape(KnetArray(Float32.(I/255)),(size(I)...,1));"
   ]
  },
  {
   "cell_type": "markdown",
   "metadata": {},
   "source": [
    "# Feature Pyramid Network\n",
    "https://medium.com/@hirotoschwert/digging-into-detectron-2-part-2-dd6e8b0526e\n",
    "![Feature Pyramid Network](img/base-rcnn-fpn.png)"
   ]
  },
  {
   "cell_type": "markdown",
   "metadata": {},
   "source": [
    "## Backbone Network\n",
    "![Feature Pyramid Network]('img/backbone.png')"
   ]
  },
  {
   "cell_type": "code",
   "execution_count": null,
   "metadata": {},
   "outputs": [],
   "source": [
    "struct Conv; w; b; f; p; end\n",
    "(c::Conv)(x) = c.f.(pool(conv4(c.w, dropout(x,c.p)) .+ c.b))\n",
    "Conv(w1::Int,w2::Int,cx::Int,cy::Int,f=relu;pdrop=0) =\n",
    "Conv(param(w1,w2,cx,cy;init=gaussian), param0(1,1,cy,1), f, pdrop)"
   ]
  },
  {
   "cell_type": "code",
   "execution_count": null,
   "metadata": {},
   "outputs": [],
   "source": [
    "@doc param"
   ]
  },
  {
   "cell_type": "code",
   "execution_count": null,
   "metadata": {},
   "outputs": [],
   "source": [
    "# Define a convolutional layer:\n",
    "struct BasicStem; w; b; f; p; end\n",
    "(bs::BasicStem)(x) =\n",
    "    bs.f.(pool(conv4(bs.w, dropout(x,bs.p),stride=2,padding=3)\n",
    "        .+ bs.b,window=2))\n",
    "BasicStem(w1::Int,w2::Int,cx::Int,cy::Int,f=relu;pdrop=0) =\n",
    "BasicStem(param(w1,w2,cx,cy;init=gaussian), param0(1,1,cy,1), f, pdrop)\n"
   ]
  },
  {
   "cell_type": "markdown",
   "metadata": {},
   "source": [
    "### Bottleneck Blocks\n",
    "![Feature Pyramid Network](img/bottleneck-blocks.png)"
   ]
  },
  {
   "cell_type": "code",
   "execution_count": null,
   "metadata": {},
   "outputs": [],
   "source": [
    "# Define a convolutional layer:\n",
    "struct BottleneckBlock_a; w1; w2; w3; p; end\n",
    "(this::BottleneckBlock_a)(x) = relu.(\n",
    "    conv4(this.w3, dropout(\n",
    "            relu.(conv4(this.w2, dropout(\n",
    "                    relu.(conv4(this.w1, dropout(x,this.p)))\n",
    "                    ,this.p),\n",
    "                    padding=1))\n",
    "            ,this.p)) .+\n",
    "    x\n",
    ")\n",
    "BottleneckBlock_a(cx::Int,cy::Int;pdrop=0) =\n",
    "    BottleneckBlock_a(\n",
    "        param(1,1,cx,cy), #w1\n",
    "        param(3,3,cy,cy), #w2\n",
    "        param(1,1,cy,cx), #w3\n",
    "        pdrop\n",
    "    )\n",
    "# Define a convolutional layer:\n",
    "struct BottleneckBlock_b; w0; w1; w2; w3; p; end\n",
    "(this::BottleneckBlock_b)(x) = relu.(\n",
    "    conv4(this.w3, dropout(\n",
    "            relu.(conv4(this.w2, dropout(\n",
    "                    relu.(conv4(this.w1, dropout(x,this.p)))\n",
    "                    ,this.p),\n",
    "                    padding=1)\n",
    "                )\n",
    "            ,this.p)) .+\n",
    "    conv4(this.w0, dropout(x,this.p))\n",
    ")\n",
    "BottleneckBlock_b(cx::Int,cy::Int;pdrop=0) =\n",
    "    BottleneckBlock_b(\n",
    "        param(1,1,cx,cy), #w0\n",
    "        param(1,1,cx,cx), #w1\n",
    "        param(3,3,cx,cx), #w2\n",
    "        param(1,1,cx,cy), #w3\n",
    "        pdrop\n",
    "    )\n",
    "# Define a convolutional layer:\n",
    "struct BottleneckBlock_c; w0; w1; w2; w3; p; end\n",
    "(this::BottleneckBlock_c)(x) = relu.(\n",
    "    conv4(this.w3, dropout(\n",
    "            relu.(conv4(this.w2, dropout(\n",
    "                    relu.(conv4(this.w1, dropout(x,this.p),stride=2))\n",
    "                    ,this.p),\n",
    "                    padding=1)\n",
    "                )\n",
    "            ,this.p)) .+\n",
    "    conv4(this.w0, dropout(x,this.p),stride=2)\n",
    ")\n",
    "BottleneckBlock_c(cx::Int,cy::Int,ci::Int;pdrop=0) =\n",
    "    BottleneckBlock_c(\n",
    "        param(1,1,cx,cy), #w0\n",
    "        param(1,1,cx,ci), #w1\n",
    "        param(3,3,ci,ci), #w2\n",
    "        param(1,1,ci,cy), #w3\n",
    "        pdrop\n",
    "    )\n"
   ]
  },
  {
   "cell_type": "code",
   "execution_count": null,
   "metadata": {},
   "outputs": [],
   "source": [
    "struct Chain\n",
    "    layers\n",
    "    Chain(layers...) = new(layers)\n",
    "end\n",
    "(c::Chain)(x) = (for l in c.layers; x = l(x); end; x)\n",
    "(c::Chain)(x,y) = sse(c(x),y)"
   ]
  },
  {
   "cell_type": "code",
   "execution_count": null,
   "metadata": {},
   "outputs": [],
   "source": [
    "conv_chain = Chain(\n",
    "    BasicStem(7,7,3,64),\n",
    "    BottleneckBlock_b(64,256),\n",
    "    BottleneckBlock_a(256,64),\n",
    "    BottleneckBlock_c(256,512,128),\n",
    "    BottleneckBlock_a(512,128),\n",
    "    BottleneckBlock_a(512,128),\n",
    "    BottleneckBlock_a(512,128),\n",
    "    BottleneckBlock_c(512,1024,256),\n",
    "    BottleneckBlock_a(1024,256),\n",
    "    BottleneckBlock_a(1024,256),\n",
    "    BottleneckBlock_a(1024,256),\n",
    "    BottleneckBlock_a(1024,256),\n",
    "    BottleneckBlock_c(1024,2048,512),\n",
    "    BottleneckBlock_a(2048,4096),\n",
    "    BottleneckBlock_a(2048,4096),\n",
    ")"
   ]
  },
  {
   "cell_type": "code",
   "execution_count": null,
   "metadata": {},
   "outputs": [],
   "source": [
    "#@benchmark conv_chain(imgData)"
   ]
  },
  {
   "cell_type": "code",
   "execution_count": null,
   "metadata": {},
   "outputs": [],
   "source": [
    "struct Pyramid\n",
    "    stem\n",
    "    layers\n",
    "    Pyramid(stem, layers...) = new(stem,layers)\n",
    "end\n",
    "function (p::Pyramid)(x)\n",
    "    # Climbing up the pyramid\n",
    "    r = p.stem(x);\n",
    "    featureMaps = ();\n",
    "    for l in p.layers;\n",
    "        r = l(r);\n",
    "        featureMaps = (featureMaps...,r);\n",
    "    end\n",
    "    featureMaps;\n",
    "end"
   ]
  },
  {
   "cell_type": "code",
   "execution_count": null,
   "metadata": {},
   "outputs": [],
   "source": [
    "backbone = Pyramid(\n",
    "    BasicStem(7,7,3,64),\n",
    "    Chain(\n",
    "        BottleneckBlock_b(64,256),\n",
    "        BottleneckBlock_a(256,64)\n",
    "        ),\n",
    "    Chain(\n",
    "        BottleneckBlock_c(256,512,128),\n",
    "        BottleneckBlock_a(512,128),\n",
    "        BottleneckBlock_a(512,128),\n",
    "        BottleneckBlock_a(512,128),\n",
    "        ),\n",
    "    Chain(\n",
    "        BottleneckBlock_c(512,1024,256),\n",
    "        BottleneckBlock_a(1024,256),\n",
    "        BottleneckBlock_a(1024,256),\n",
    "        BottleneckBlock_a(1024,256),\n",
    "        BottleneckBlock_a(1024,256),\n",
    "        ),\n",
    "    Chain(\n",
    "        BottleneckBlock_c(1024,2048,512),\n",
    "        BottleneckBlock_a(2048,4096),\n",
    "        BottleneckBlock_a(2048,4096),\n",
    "        ),\n",
    "    Chain(\n",
    "        x -> pool(x)\n",
    "        )\n",
    ")"
   ]
  },
  {
   "cell_type": "code",
   "execution_count": null,
   "metadata": {},
   "outputs": [],
   "source": [
    "#@benchmark pyramid_o = backbone(imgData)"
   ]
  },
  {
   "cell_type": "code",
   "execution_count": null,
   "metadata": {},
   "outputs": [],
   "source": [
    "struct onlyConv; w; f; p; pad; end\n",
    "(c::onlyConv)(x) = c.f.(conv4(c.w, dropout(x,c.p),padding=c.pad))\n",
    "onlyConv(w1::Int,w2::Int,cx::Int,cy::Int,f=relu;pdrop=0,padding=0) =\n",
    "onlyConv(param(w1,w2,cx,cy), f, pdrop,padding)"
   ]
  },
  {
   "cell_type": "code",
   "execution_count": null,
   "metadata": {},
   "outputs": [],
   "source": [
    "struct FPN\n",
    "    pyramid\n",
    "    lateral_layers\n",
    "    output_layers\n",
    "    FPN(pyramid,lateral_layers,output_layers) =\n",
    "        new(pyramid,lateral_layers,output_layers)\n",
    "end\n",
    "function (fpn::FPN)(x)\n",
    "    # Climbing up the pyramid\n",
    "    y = fpn.pyramid(x);\n",
    "    L = ();\n",
    "    # Reduce #channels\n",
    "    for i in 1:length(fpn.lateral_layers)\n",
    "        L = (L...,fpn.lateral_layers[i](y[i]))\n",
    "    end\n",
    "    # TODO: upsample and add\n",
    "    \n",
    "    # output\n",
    "    O = ();\n",
    "    for i in 1:length(fpn.output_layers)\n",
    "        O = (O...,fpn.output_layers[i](L[i]))\n",
    "    end\n",
    "    (O...,L[end])\n",
    "end\n",
    "\n"
   ]
  },
  {
   "cell_type": "code",
   "execution_count": null,
   "metadata": {},
   "outputs": [],
   "source": [
    "myFPN = FPN(\n",
    "    backbone,\n",
    "    [\n",
    "        onlyConv(1,1,256,256),\n",
    "        onlyConv(1,1,512,256),\n",
    "        onlyConv(1,1,1024,256),\n",
    "        onlyConv(1,1,2048,256),\n",
    "        onlyConv(1,1,2048,256)\n",
    "    ],\n",
    "    [\n",
    "        onlyConv(3,3,256,256,padding=1),\n",
    "        onlyConv(3,3,256,256,padding=1),\n",
    "        onlyConv(3,3,256,256,padding=1),\n",
    "        onlyConv(3,3,256,256,padding=1)\n",
    "    ]\n",
    ");"
   ]
  },
  {
   "cell_type": "code",
   "execution_count": null,
   "metadata": {},
   "outputs": [],
   "source": [
    "#@benchmark myFPN(imgData)"
   ]
  },
  {
   "cell_type": "code",
   "execution_count": null,
   "metadata": {},
   "outputs": [],
   "source": [
    "struct RPN_head\n",
    "    conv_plain\n",
    "    objectness_logit_conv\n",
    "    anchor_deltas_conv\n",
    "    RPN_head(conv_plain,objectness_logit_conv,anchor_deltas_conv) =\n",
    "        new(conv_plain,objectness_logit_conv,anchor_deltas_conv)\n",
    "end\n",
    "function (rpnh::RPN_head)(x)\n",
    "    objectness_logit = [];\n",
    "    anchor_deltas = [];\n",
    "    # for each head in bundle (P2 to P6)\n",
    "    for h in x\n",
    "        temp = rpnh.conv_plain(h)\n",
    "        push!(objectness_logit, rpnh.objectness_logit_conv(temp))\n",
    "        push!(anchor_deltas, rpnh.anchor_deltas_conv(temp))\n",
    "    end\n",
    "    (objectness_logit,anchor_deltas)\n",
    "end"
   ]
  },
  {
   "cell_type": "code",
   "execution_count": null,
   "metadata": {},
   "outputs": [],
   "source": [
    "myRPN_head = RPN_head(\n",
    "    onlyConv(3,3,256,256,padding=1),\n",
    "    onlyConv(1,1,256,3,sigm),\n",
    "    onlyConv(1,1,256,3*4)\n",
    ")"
   ]
  },
  {
   "cell_type": "code",
   "execution_count": null,
   "metadata": {},
   "outputs": [],
   "source": [
    "img_objectness_logits, img_anchor_deltas =\n",
    "    myRPN_head(myFPN(imgData))"
   ]
  },
  {
   "cell_type": "markdown",
   "metadata": {},
   "source": [
    "### Feature Map Visualization\n",
    "![Feature Pyramid Network](img/receptive-field.png)"
   ]
  },
  {
   "cell_type": "code",
   "execution_count": null,
   "metadata": {},
   "outputs": [],
   "source": [
    "img_objectness_logits"
   ]
  },
  {
   "cell_type": "code",
   "execution_count": null,
   "metadata": {},
   "outputs": [],
   "source": [
    "img_anchor_deltas"
   ]
  },
  {
   "cell_type": "code",
   "execution_count": null,
   "metadata": {},
   "outputs": [],
   "source": [
    "#https://github.com/facebookresearch/detectron2/blob/5e2a1ecccd228227c5a605c0a98d58e1b2db3640/detectron2/modeling/anchor_generator.py#L140-L177\n",
    "function generate_cell_anchors(\n",
    "        sizes=(32,64,128,256,512),\n",
    "        aspect_ratios=(0.5,1,2)\n",
    "    )\n",
    "    anchors = []\n",
    "    for size in sizes\n",
    "        anchor = []\n",
    "        area = size ^ 2.0\n",
    "        for aspect_ratio in aspect_ratios\n",
    "            # s * s = w * h\n",
    "            # a = h / w\n",
    "            # ... some algebra ...\n",
    "            # w = sqrt(s * s / a)\n",
    "            # h = a * w\n",
    "            w = sqrt(area / aspect_ratio)\n",
    "            h = aspect_ratio * w\n",
    "            x0, y0, x1, y1 = -w / 2.0, -h / 2.0, w / 2.0, h / 2.0\n",
    "            append!(anchor,[[x0, y0, x1, y1]])\n",
    "        end\n",
    "        append!(anchors,[anchor])\n",
    "    end\n",
    "    anchors\n",
    "end\n"
   ]
  },
  {
   "cell_type": "code",
   "execution_count": null,
   "metadata": {},
   "outputs": [],
   "source": [
    "cell_anchors = generate_cell_anchors()"
   ]
  },
  {
   "cell_type": "code",
   "execution_count": null,
   "metadata": {},
   "outputs": [],
   "source": [
    "# inputs:\n",
    "# boxA = [top left x, top left y, width, height]\n",
    "# boxB = [top left x, top left y, width, height]\n",
    "function bb_intersection_over_union(boxA, boxB)\n",
    "    # determine the (x, y)-coordinates of the intersection rectangle\n",
    "    xA = max(boxA[1], boxB[1])\n",
    "    yA = max(boxA[2], boxB[2])\n",
    "    xB = min(boxA[1] + boxA[3], boxB[1] + boxB[3])\n",
    "    yB = min(boxA[2] + boxA[4], boxB[2] + boxB[4])\n",
    "    # compute the area of intersection rectangle\n",
    "    interArea = max(0, xB - xA) * max(0, yB - yA)\n",
    "    # compute the area of both the prediction and ground-truth\n",
    "    # rectangles\n",
    "    boxAArea = boxA[3] * boxA[4]\n",
    "    boxBArea = boxB[3] * boxB[4]\n",
    "    # compute the intersection over union by taking the intersection\n",
    "    # area and dividing it by the sum of prediction + ground-truth\n",
    "    # areas - the interesection area\n",
    "    iou = interArea / (boxAArea + boxBArea - interArea)\n",
    "    # return the intersection over union value\n",
    "end"
   ]
  },
  {
   "cell_type": "code",
   "execution_count": null,
   "metadata": {},
   "outputs": [],
   "source": [
    "bb_intersection_over_union([1,0,2,2], [1,1,1,1])"
   ]
  },
  {
   "cell_type": "code",
   "execution_count": null,
   "metadata": {},
   "outputs": [],
   "source": [
    "strides = KnetArray([4,8,16,32,64])"
   ]
  },
  {
   "cell_type": "code",
   "execution_count": null,
   "metadata": {},
   "outputs": [],
   "source": [
    "anchors = []\n",
    "for anchor in 1:length(img_anchor_deltas)\n",
    "    a = []\n",
    "    for i = 1:size(img_anchor_deltas[anchor],1)\n",
    "        for j = 1:size(img_anchor_deltas[anchor],2)\n",
    "            b = []\n",
    "            for c in cell_anchors[anchor]\n",
    "                append!(b,[[strides[anchor]*i,strides[anchor]*j,0,0]+c])\n",
    "            end\n",
    "            append!(a,b) \n",
    "        end\n",
    "    end\n",
    "    append!(anchors,a) \n",
    "end\n",
    "summary(anchors)\n"
   ]
  },
  {
   "cell_type": "code",
   "execution_count": null,
   "metadata": {},
   "outputs": [],
   "source": [
    "anchors"
   ]
  },
  {
   "cell_type": "code",
   "execution_count": null,
   "metadata": {},
   "outputs": [],
   "source": [
    "size(img_anchor_deltas[1])"
   ]
  },
  {
   "cell_type": "code",
   "execution_count": null,
   "metadata": {},
   "outputs": [],
   "source": [
    "gt_bboxs = [];\n",
    "for ann in anns\n",
    "    append!(gt_bboxs,[ann[\"bbox\"]])\n",
    "end\n",
    "gt_bboxs"
   ]
  },
  {
   "cell_type": "code",
   "execution_count": null,
   "metadata": {},
   "outputs": [],
   "source": [
    "print( gt_bboxs[1]);print(\"\\n\");\n",
    "bb_intersection_over_union(gt_bboxs[1], gt_bboxs[1])"
   ]
  },
  {
   "cell_type": "code",
   "execution_count": null,
   "metadata": {},
   "outputs": [],
   "source": [
    "IoU_matrix = zeros(Float32,length(gt_bboxs),length(anchors))"
   ]
  },
  {
   "cell_type": "code",
   "execution_count": null,
   "metadata": {},
   "outputs": [],
   "source": [
    "for i = 1:length(gt_bboxs)\n",
    "    for j = 1:length(anchors)\n",
    "        IoU_matrix[i,j] =\n",
    "            bb_intersection_over_union(gt_bboxs[i], anchors[j])\n",
    "    end\n",
    "end\n",
    "IoU_matrix"
   ]
  },
  {
   "cell_type": "code",
   "execution_count": null,
   "metadata": {},
   "outputs": [],
   "source": [
    "function get_IoUs(gt,anc)\n",
    "    IoU_matrix = zeros(Float32,length(gt),length(anc))\n",
    "    for i = 1:length(gt)\n",
    "        for j = 1:length(anc)\n",
    "            IoU_matrix[i,j] =\n",
    "                bb_intersection_over_union(gt[i], anc[j])\n",
    "        end\n",
    "    end\n",
    "    IoU_matrix\n",
    "end"
   ]
  },
  {
   "cell_type": "code",
   "execution_count": null,
   "metadata": {},
   "outputs": [],
   "source": [
    "IoU_matrix = get_IoUs(gt_bboxs,anchors)"
   ]
  },
  {
   "cell_type": "code",
   "execution_count": null,
   "metadata": {},
   "outputs": [],
   "source": [
    "IoU_foreground_th = 0.25;\n",
    "IoU_background_th = 0.25;\n",
    "function matcher(x)\n",
    "    if (x >= IoU_foreground_th)\n",
    "        return 1;\n",
    "    elseif (x <= IoU_background_th)\n",
    "        return 0;\n",
    "    else\n",
    "        return -1;\n",
    "    end\n",
    "end\n",
    "@time IoU_labels = matcher.(IoU_matrix)"
   ]
  },
  {
   "cell_type": "code",
   "execution_count": null,
   "metadata": {},
   "outputs": [],
   "source": [
    "for i in 1:size(IoU_matrix,1)\n",
    "    print(IoU_matrix[i,argmax(IoU_matrix[i,:])]);print(\"\\n\")\n",
    "end"
   ]
  },
  {
   "cell_type": "code",
   "execution_count": null,
   "metadata": {},
   "outputs": [],
   "source": [
    "@time anchor_candidates = findall(x->x==1,IoU_labels)"
   ]
  },
  {
   "cell_type": "code",
   "execution_count": null,
   "metadata": {},
   "outputs": [],
   "source": [
    "@time anchor_background = findall(x->x==0,IoU_labels)"
   ]
  },
  {
   "cell_type": "code",
   "execution_count": null,
   "metadata": {},
   "outputs": [],
   "source": [
    "@time findall(x->x==-1,IoU_labels)"
   ]
  },
  {
   "cell_type": "code",
   "execution_count": null,
   "metadata": {},
   "outputs": [],
   "source": [
    "RPN_BATCH_SIZE_PER_IMAGE = 256;\n",
    "RPN_POSITIVE_FRACTION = 0.5;"
   ]
  },
  {
   "cell_type": "code",
   "execution_count": null,
   "metadata": {},
   "outputs": [],
   "source": [
    "#import Pkg; Pkg.add(\"StatsBase\")"
   ]
  },
  {
   "cell_type": "code",
   "execution_count": null,
   "metadata": {},
   "outputs": [],
   "source": [
    "downsampled_candidates =\n",
    "    length(anchor_candidates) > RPN_BATCH_SIZE_PER_IMAGE * RPN_POSITIVE_FRACTION ?\n",
    "    sample(anchor_candidates,Int64(RPN_BATCH_SIZE_PER_IMAGE * RPN_POSITIVE_FRACTION),replace=false) :\n",
    "    anchor_candidates\n"
   ]
  },
  {
   "cell_type": "code",
   "execution_count": null,
   "metadata": {},
   "outputs": [],
   "source": [
    "downsampled_background =\n",
    "    sample(anchor_candidates,Int64(RPN_BATCH_SIZE_PER_IMAGE-length(downsampled_candidates)),replace=false)"
   ]
  },
  {
   "cell_type": "code",
   "execution_count": null,
   "metadata": {},
   "outputs": [],
   "source": [
    "downsampled = vcat(downsampled_candidates,downsampled_background)"
   ]
  },
  {
   "cell_type": "markdown",
   "metadata": {},
   "source": [
    "![anchor delta](img/anchor_delta.png)"
   ]
  },
  {
   "cell_type": "code",
   "execution_count": null,
   "metadata": {},
   "outputs": [],
   "source": [
    "DEFAULT_SCALE_CLAMP = log(1000.0 / 16);\n",
    "function calculate_delta(gt,anc)\n",
    "    dx = ((gt[1]+0.5*gt[3])-(anc[1]+0.5*anc[3]))/anc[3]\n",
    "    dy = ((gt[2]+0.5*gt[4])-(anc[2]+0.5*anc[4]))/anc[4]\n",
    "    dw = log(gt[3]/anc[3])\n",
    "    dh = log(gt[4]/anc[4])\n",
    "    [dx,dy,\n",
    "        dw<DEFAULT_SCALE_CLAMP ? dw : DEFAULT_SCALE_CLAMP,\n",
    "        dh<DEFAULT_SCALE_CLAMP ? dh : DEFAULT_SCALE_CLAMP]\n",
    "end"
   ]
  },
  {
   "cell_type": "code",
   "execution_count": null,
   "metadata": {},
   "outputs": [],
   "source": [
    "function apply_delta(anc,delta)\n",
    "    pred_center_x = delta[1]*anc[3] + anc[1]\n",
    "    pred_center_y = delta[2]*anc[4] + anc[2]\n",
    "    pred_width = exp(delta[3])*anc[3]\n",
    "    pred_height = exp(delta[4])*anc[4]\n",
    "    [pred_center_x,pred_center_y,pred_width,pred_height]\n",
    "end"
   ]
  },
  {
   "cell_type": "code",
   "execution_count": null,
   "metadata": {},
   "outputs": [],
   "source": [
    "apply_delta(anchors[2],[-0.5,0,0,0])"
   ]
  },
  {
   "cell_type": "code",
   "execution_count": null,
   "metadata": {},
   "outputs": [],
   "source": [
    "img_anchor_deltas_flat = nothing\n",
    "for i in img_anchor_deltas\n",
    "    flat = reshape(i,(\n",
    "                size(i,1)*\n",
    "                size(i,2)*\n",
    "                3,\n",
    "                4\n",
    "            )\n",
    "        )\n",
    "    img_anchor_deltas_flat = img_anchor_deltas_flat != nothing ?\n",
    "        vcat(img_anchor_deltas_flat,flat) : flat\n",
    "end\n",
    "img_anchor_deltas_flat"
   ]
  },
  {
   "cell_type": "code",
   "execution_count": null,
   "metadata": {},
   "outputs": [],
   "source": [
    "function calculate_deltas(indices)\n",
    "    gt_deltas = nothing\n",
    "    proposed_deltas = nothing\n",
    "    for i in indices\n",
    "        gt_delta = calculate_delta(gt_bboxs[i[1]],anchors[i[2]])\n",
    "        proposed_delta = img_anchor_deltas_flat[i[2],:]\n",
    "        gt_deltas = gt_deltas != nothing ?\n",
    "            hcat(gt_deltas,gt_delta) : gt_delta;\n",
    "        proposed_deltas = proposed_deltas != nothing ?\n",
    "            hcat(proposed_deltas,proposed_delta) : proposed_delta\n",
    "    end\n",
    "    KnetArray(Float32.(gt_deltas)), proposed_deltas\n",
    "end"
   ]
  },
  {
   "cell_type": "code",
   "execution_count": null,
   "metadata": {},
   "outputs": [],
   "source": [
    "function calculate_BB_loss((gt_deltas,proposed_deltas))\n",
    "    sum((gt_deltas .- proposed_deltas).^2)\n",
    "end"
   ]
  },
  {
   "cell_type": "code",
   "execution_count": null,
   "metadata": {},
   "outputs": [],
   "source": [
    "calculate_BB_loss(calculate_deltas(downsampled_candidates))"
   ]
  },
  {
   "cell_type": "code",
   "execution_count": null,
   "metadata": {},
   "outputs": [],
   "source": [
    "img_objectness_flat = nothing\n",
    "for i in img_objectness_logits\n",
    "    flat = reshape(i,(\n",
    "                size(i,1)*\n",
    "                size(i,2)*\n",
    "                3,\n",
    "            )\n",
    "        )\n",
    "    img_objectness_flat = img_objectness_flat != nothing ?\n",
    "        vcat(img_objectness_flat,flat) : flat\n",
    "end\n",
    "img_objectness_flat"
   ]
  },
  {
   "cell_type": "code",
   "execution_count": null,
   "metadata": {},
   "outputs": [],
   "source": [
    "downsampled_candidates\n",
    "downsampled_background\n",
    "function calculate_objectness_loss(object_indices,background_indices)\n",
    "    total_loss = 0;\n",
    "    # since objectness scroes are between (0,1) summation won't cancel out.\n",
    "    for i in object_indices\n",
    "        total_loss += 1-img_objectness_flat[i[2]]\n",
    "    end\n",
    "    for i in background_indices\n",
    "        total_loss += img_objectness_flat[i[2]]\n",
    "    end\n",
    "    total_loss\n",
    "end"
   ]
  },
  {
   "cell_type": "code",
   "execution_count": null,
   "metadata": {},
   "outputs": [],
   "source": [
    "calculate_objectness_loss(downsampled_candidates,downsampled_background)"
   ]
  },
  {
   "cell_type": "markdown",
   "metadata": {},
   "source": [
    "## Proposal Selection"
   ]
  },
  {
   "cell_type": "code",
   "execution_count": null,
   "metadata": {},
   "outputs": [],
   "source": [
    "RPN_PRE_NMS_TOPK_TRAIN = 2000;\n",
    "RPN_POST_NMS_TOPK_TRAIN = 1000;"
   ]
  },
  {
   "cell_type": "code",
   "execution_count": null,
   "metadata": {},
   "outputs": [],
   "source": [
    "img_objectness_logits"
   ]
  },
  {
   "cell_type": "code",
   "execution_count": null,
   "metadata": {},
   "outputs": [],
   "source": [
    "argmax(img_objectness_logits[1])"
   ]
  },
  {
   "cell_type": "code",
   "execution_count": null,
   "metadata": {},
   "outputs": [],
   "source": [
    "img_objectness_logits[1][argmax(img_objectness_logits[1])]"
   ]
  },
  {
   "cell_type": "code",
   "execution_count": null,
   "metadata": {},
   "outputs": [],
   "source": [
    "max_k_indices = ()\n",
    "for f_level in img_objectness_logits #f_level: feature level\n",
    "    indices = partialsortperm(\n",
    "        Array(reshape(\n",
    "                f_level,\n",
    "                size(f_level,1)*size(f_level,2)*size(f_level,3))),\n",
    "        1:min(2000,size(f_level,1)*size(f_level,2)*size(f_level,3));rev=false)\n",
    "    max_k_indices = (max_k_indices...,indices)\n",
    "end"
   ]
  },
  {
   "cell_type": "code",
   "execution_count": null,
   "metadata": {},
   "outputs": [],
   "source": [
    "max_k_indices[1]"
   ]
  },
  {
   "cell_type": "code",
   "execution_count": null,
   "metadata": {},
   "outputs": [],
   "source": [
    "img_anchor_deltas"
   ]
  },
  {
   "cell_type": "code",
   "execution_count": null,
   "metadata": {},
   "outputs": [],
   "source": [
    "max_k_indices"
   ]
  },
  {
   "cell_type": "code",
   "execution_count": null,
   "metadata": {},
   "outputs": [],
   "source": [
    "anchors[[max_k_indices[1][1]]]"
   ]
  },
  {
   "cell_type": "code",
   "execution_count": null,
   "metadata": {},
   "outputs": [],
   "source": [
    "apply_delta(anchors[[max_k_indices[1][1]]][1],img_anchor_deltas_flat[max_k_indices[1][1],:])"
   ]
  },
  {
   "cell_type": "code",
   "execution_count": null,
   "metadata": {},
   "outputs": [],
   "source": [
    "img_anchor_deltas_flat[max_k_indices[1][1],:]"
   ]
  },
  {
   "cell_type": "code",
   "execution_count": null,
   "metadata": {},
   "outputs": [],
   "source": [
    "anchors[[max_k_indices[1][1]]][1]"
   ]
  },
  {
   "cell_type": "code",
   "execution_count": null,
   "metadata": {},
   "outputs": [],
   "source": []
  }
 ],
 "metadata": {
  "kernelspec": {
   "display_name": "Julia 1.5.2",
   "language": "julia",
   "name": "julia-1.5"
  },
  "language_info": {
   "file_extension": ".jl",
   "mimetype": "application/julia",
   "name": "julia",
   "version": "1.5.2"
  }
 },
 "nbformat": 4,
 "nbformat_minor": 2
}
